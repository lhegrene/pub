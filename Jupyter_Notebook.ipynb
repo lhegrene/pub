# Jupyter Notebook

### In this notebook, Data Science Tools and Ecosystem are summarized

Data Science Languages:
<ol> <li>Python</li> <li>R</li> <li>SQL</li></ol>

Data Science Libraries:
<ol> <li>NumPy</li> <li>Matplotlib</li> <li>SciPy</li></ol>

| Data Science Tools |
---
| Github |
| Model Asset eXchange |
| Hadoop |

### Below are a few examples of evaluating arithmetic expressions in Python

#This a simple arithmetic expression to mutiply then add integers
print((3*4)+5)

#This will convert 200 minutes to hours by diving by 60
print((200 / 60))

**Objectives** <br>
<ul>Describe the components of a Data Scientist's toolkit and list various tool categories. </ul>
<ul>List examples of open-source tools used in data science. </ul>
<ul>Describe the relevant features of open-source tools. </ul>
<ul>List examples of commercial and cloud-based data science tools. </ul>

## Author <br>
Logan Hegrenes